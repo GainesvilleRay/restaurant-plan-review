{
 "cells": [
  {
   "cell_type": "code",
   "execution_count": 1,
   "metadata": {},
   "outputs": [],
   "source": [
    "import sqlite3\n",
    "conn = sqlite3.connect(\"planreview.sqlite\")\n",
    "cursor = conn.cursor()\n",
    "\n",
    "cursor.execute(\"\"\"CREATE TABLE IF NOT EXISTS plans (\n",
    "region INTEGER,\n",
    "county TEXT,\n",
    "biz_name TEXT,\n",
    "biz_street TEXT,\n",
    "biz_city TEXT,\n",
    "biz_zip TEXT,\n",
    "biz_phone TEXT,\n",
    "biz_email TEXT,\n",
    "status TEXT,\n",
    "app_date DATETIME,\n",
    "review_date DATETIME,\n",
    "type_app TEXT,\n",
    "type_rank TEXT,\n",
    "file_num INTEGER,\n",
    "app_num INTEGER,\n",
    "lic_num INTEGER,\n",
    "trans_var TEXT,\n",
    "unused TEXT,\n",
    "contact_name TEXT,\n",
    "contact_street TEXT,\n",
    "contact_city TEXT,\n",
    "contact_zip TEXT,\n",
    "nation TEXT,\n",
    "contact_phone TEXT,\n",
    "contact_email TEXT,\n",
    "alt_phone TEXT,\n",
    "alt_email TEXT,\n",
    "posted DATETIME DEFAULT (STRFTIME('%Y-%m-%d %H:%M', 'NOW', 'localtime')))\n",
    "\"\"\") \n",
    "\n",
    "conn.commit()\n",
    "conn.close()"
   ]
  },
  {
   "cell_type": "code",
   "execution_count": null,
   "metadata": {},
   "outputs": [],
   "source": []
  }
 ],
 "metadata": {
  "kernelspec": {
   "display_name": "Python 3",
   "language": "python",
   "name": "python3"
  },
  "language_info": {
   "codemirror_mode": {
    "name": "ipython",
    "version": 3
   },
   "file_extension": ".py",
   "mimetype": "text/x-python",
   "name": "python",
   "nbconvert_exporter": "python",
   "pygments_lexer": "ipython3",
   "version": "3.6.5"
  }
 },
 "nbformat": 4,
 "nbformat_minor": 2
}
