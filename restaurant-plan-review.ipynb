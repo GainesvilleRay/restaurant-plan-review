{
 "cells": [
  {
   "cell_type": "code",
   "execution_count": 1,
   "metadata": {},
   "outputs": [],
   "source": [
    "from pandas import pandas as pd\n",
    "from __future__ import print_function\n",
    "import sqlite3\n",
    "import time\n",
    "from apiclient import discovery\n",
    "from httplib2 import Http\n",
    "from oauth2client import file, client, tools\n",
    "\n",
    "# built-in libraries\n",
    "import datetime\n",
    "import re\n",
    "import sqlite3\n",
    "import urllib\n",
    "import csv"
   ]
  },
  {
   "cell_type": "code",
   "execution_count": 8,
   "metadata": {},
   "outputs": [],
   "source": [
    "# read in state report on restaurant plan reviews as pd dataframe\n",
    "\n",
    "plans = pd.read_csv(\"ftp://dbprftp.state.fl.us/pub/llweb/HR_plan_review.csv\", encoding=\"ISO-8859-1\")\n",
    "plans.columns = ['region', 'county', 'biz_name', 'biz_street', 'biz_city',\n",
    "          'biz_zip', 'biz_phone', 'biz_email', 'status', 'app_date',\n",
    "          'review_date', 'type_app', 'type_rank', 'file_num', 'app_num',\n",
    "          'lic_num', 'trans_var', 'unused', 'contact_name', 'contact_street',\n",
    "          'contact_city', 'contact_zip', 'nation', 'contact_phone',\n",
    "          'contact_email', 'alt_phone', 'alt_email']\n",
    "#app_num = plans['app_num'].astype(str).astype(int) #convert app_num to int\n",
    "plans['app_num'] = plans['app_num'].apply(int) # this does it also; better?"
   ]
  },
  {
   "cell_type": "code",
   "execution_count": null,
   "metadata": {},
   "outputs": [],
   "source": [
    "# initial upload to db\n",
    "conn = sqlite3.connect(\"planreview.sqlite\")\n",
    "\n"
   ]
  },
  {
   "cell_type": "code",
   "execution_count": null,
   "metadata": {},
   "outputs": [],
   "source": [
    "# filter to keep records that have app_num larger than those already posted,\n",
    "# or an app_date after those already posted\n",
    "conn = sqlite3.connect(\"planreview.sqlite\")\n",
    "df = pd.read_sql_query(\"select * from plans;\", conn)\n",
    "df\n",
    "new_vals = plans[plans.app_num > app_num]\n",
    "\n",
    "# or keep in pandas df and do the filtering there before export directly to db/sheet"
   ]
  },
  {
   "cell_type": "code",
   "execution_count": null,
   "metadata": {},
   "outputs": [],
   "source": [
    "\n",
    "\n",
    "# take the latest records to add to db or send directly to Google sheet\n",
    "\n",
    "\n",
    "# send values to Google sheet\n",
    "SCOPES = 'https://www.googleapis.com/auth/spreadsheets'\n",
    "store = file.Storage('storage.json')\n",
    "creds = store.get()\n",
    "if not creds or creds.invalid:\n",
    "    flow = client.flow_from_clientsecrets('client_secret_613750166644-e01b9e9p6ijs69ncs6u575td2ffugusm.apps.googleusercontent.com.json', SCOPES)\n",
    "    creds = tools.run_flow(flow, store)\n",
    "SHEETS = discovery.build('sheets', 'v4', http=creds.authorize(Http()))\n",
    "\n",
    "data = {'properties': {'title': 'Restaurt plan reviews [%s]' % time.ctime()}}\n",
    "res = SHEETS.spreadsheets().create(body=data).execute()\n",
    "SHEET_ID = res['spreadsheetId']\n",
    "print('Created \"%s\"' % res['properties']['title'])\n",
    "\n",
    "FIELDS = ('rowid', 'region', 'county', 'biz_name', 'biz_street', 'biz_city',\n",
    "          'biz_zip', 'biz_phone', 'biz_email', 'status', 'app_date',\n",
    "          'review_date', 'type_app', 'type_rank', 'file_num', 'app_num',\n",
    "          'lic_num', 'trans_var', 'unused', 'contact_name', 'contact_street',\n",
    "          'contact_city', 'contact_zip', 'nation', 'contact_phone',\n",
    "          'contact_email', 'alt_phone', 'alt_email', 'posted')\n",
    "conn = sqlite3.connect('planreview.sqlite')\n",
    "cur = conn.cursor()\n",
    "rows = cur.execute('SELECT * FROM plans').fetchall()\n",
    "conn.close()\n",
    "rows.insert(0, FIELDS)\n",
    "data = {'values': [row[:6] for row in rows]}\n",
    "\n",
    "SHEETS.spreadsheets().values().update(spreadsheetId=SHEET_ID,\n",
    "    range='A1', body=data, valueInputOption='RAW').execute()\n",
    "print('Wrote data to Sheet:')\n",
    "rows = SHEETS.spreadsheets().values().get(spreadsheetId=SHEET_ID,\n",
    "    range='Sheet1').execute().get('values', [])\n",
    "for row in rows:\n",
    "    print(row)"
   ]
  },
  {
   "cell_type": "code",
   "execution_count": null,
   "metadata": {},
   "outputs": [],
   "source": []
  }
 ],
 "metadata": {
  "kernelspec": {
   "display_name": "Python 3",
   "language": "python",
   "name": "python3"
  },
  "language_info": {
   "codemirror_mode": {
    "name": "ipython",
    "version": 3
   },
   "file_extension": ".py",
   "mimetype": "text/x-python",
   "name": "python",
   "nbconvert_exporter": "python",
   "pygments_lexer": "ipython3",
   "version": "3.6.5"
  }
 },
 "nbformat": 4,
 "nbformat_minor": 2
}
